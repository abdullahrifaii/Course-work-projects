{
 "cells": [
  {
   "cell_type": "code",
   "execution_count": 1,
   "id": "791ca195-9512-4eb2-892c-2bf3d84e35e4",
   "metadata": {
    "tags": []
   },
   "outputs": [],
   "source": [
    "import pandas as pd\n",
    "import numpy as np"
   ]
  },
  {
   "cell_type": "code",
   "execution_count": 2,
   "id": "08ceff54-5e08-4750-8759-e1e8224d1baf",
   "metadata": {
    "tags": []
   },
   "outputs": [
    {
     "data": {
      "text/html": [
       "<div>\n",
       "<style scoped>\n",
       "    .dataframe tbody tr th:only-of-type {\n",
       "        vertical-align: middle;\n",
       "    }\n",
       "\n",
       "    .dataframe tbody tr th {\n",
       "        vertical-align: top;\n",
       "    }\n",
       "\n",
       "    .dataframe thead th {\n",
       "        text-align: right;\n",
       "    }\n",
       "</style>\n",
       "<table border=\"1\" class=\"dataframe\">\n",
       "  <thead>\n",
       "    <tr style=\"text-align: right;\">\n",
       "      <th></th>\n",
       "      <th>Cement</th>\n",
       "      <th>Blast Furnace Slag</th>\n",
       "      <th>Fly Ash</th>\n",
       "      <th>Water</th>\n",
       "      <th>Superplasticizer</th>\n",
       "      <th>Coarse Aggregate</th>\n",
       "      <th>Fine Aggregate</th>\n",
       "      <th>Age</th>\n",
       "      <th>Strength</th>\n",
       "    </tr>\n",
       "  </thead>\n",
       "  <tbody>\n",
       "    <tr>\n",
       "      <th>0</th>\n",
       "      <td>540.0</td>\n",
       "      <td>0.0</td>\n",
       "      <td>0.0</td>\n",
       "      <td>162.0</td>\n",
       "      <td>2.5</td>\n",
       "      <td>1040.0</td>\n",
       "      <td>676.0</td>\n",
       "      <td>28</td>\n",
       "      <td>79.99</td>\n",
       "    </tr>\n",
       "    <tr>\n",
       "      <th>1</th>\n",
       "      <td>540.0</td>\n",
       "      <td>0.0</td>\n",
       "      <td>0.0</td>\n",
       "      <td>162.0</td>\n",
       "      <td>2.5</td>\n",
       "      <td>1055.0</td>\n",
       "      <td>676.0</td>\n",
       "      <td>28</td>\n",
       "      <td>61.89</td>\n",
       "    </tr>\n",
       "    <tr>\n",
       "      <th>2</th>\n",
       "      <td>332.5</td>\n",
       "      <td>142.5</td>\n",
       "      <td>0.0</td>\n",
       "      <td>228.0</td>\n",
       "      <td>0.0</td>\n",
       "      <td>932.0</td>\n",
       "      <td>594.0</td>\n",
       "      <td>270</td>\n",
       "      <td>40.27</td>\n",
       "    </tr>\n",
       "    <tr>\n",
       "      <th>3</th>\n",
       "      <td>332.5</td>\n",
       "      <td>142.5</td>\n",
       "      <td>0.0</td>\n",
       "      <td>228.0</td>\n",
       "      <td>0.0</td>\n",
       "      <td>932.0</td>\n",
       "      <td>594.0</td>\n",
       "      <td>365</td>\n",
       "      <td>41.05</td>\n",
       "    </tr>\n",
       "    <tr>\n",
       "      <th>4</th>\n",
       "      <td>198.6</td>\n",
       "      <td>132.4</td>\n",
       "      <td>0.0</td>\n",
       "      <td>192.0</td>\n",
       "      <td>0.0</td>\n",
       "      <td>978.4</td>\n",
       "      <td>825.5</td>\n",
       "      <td>360</td>\n",
       "      <td>44.30</td>\n",
       "    </tr>\n",
       "  </tbody>\n",
       "</table>\n",
       "</div>"
      ],
      "text/plain": [
       "   Cement  Blast Furnace Slag  Fly Ash  Water  Superplasticizer  \\\n",
       "0   540.0                 0.0      0.0  162.0               2.5   \n",
       "1   540.0                 0.0      0.0  162.0               2.5   \n",
       "2   332.5               142.5      0.0  228.0               0.0   \n",
       "3   332.5               142.5      0.0  228.0               0.0   \n",
       "4   198.6               132.4      0.0  192.0               0.0   \n",
       "\n",
       "   Coarse Aggregate  Fine Aggregate  Age  Strength  \n",
       "0            1040.0           676.0   28     79.99  \n",
       "1            1055.0           676.0   28     61.89  \n",
       "2             932.0           594.0  270     40.27  \n",
       "3             932.0           594.0  365     41.05  \n",
       "4             978.4           825.5  360     44.30  "
      ]
     },
     "execution_count": 2,
     "metadata": {},
     "output_type": "execute_result"
    }
   ],
   "source": [
    "concrete_data = pd.read_csv('https://s3-api.us-geo.objectstorage.softlayer.net/cf-courses-data/CognitiveClass/DL0101EN/labs/data/concrete_data.csv')\n",
    "concrete_data.head()"
   ]
  },
  {
   "cell_type": "code",
   "execution_count": 3,
   "id": "36601c05-6b98-42fc-b19b-219b7bde0076",
   "metadata": {
    "tags": []
   },
   "outputs": [
    {
     "data": {
      "text/plain": [
       "(1030, 9)"
      ]
     },
     "execution_count": 3,
     "metadata": {},
     "output_type": "execute_result"
    }
   ],
   "source": [
    "concrete_data.shape"
   ]
  },
  {
   "cell_type": "code",
   "execution_count": 4,
   "id": "ea76c126-2aec-4a21-b171-b24ce1d5c404",
   "metadata": {
    "tags": []
   },
   "outputs": [],
   "source": [
    "#split the data into features and target\n",
    "concrete_data_columns = concrete_data.columns\n",
    "\n",
    "predictors = concrete_data[concrete_data_columns[concrete_data_columns != 'Strength']] # all columns except Strength\n",
    "target = concrete_data['Strength'] # Strength column"
   ]
  },
  {
   "cell_type": "code",
   "execution_count": 5,
   "id": "470c8562-a7fb-46d4-bf98-25f98dbfcbc0",
   "metadata": {
    "tags": []
   },
   "outputs": [],
   "source": [
    "n_cols = predictors.shape[1]"
   ]
  },
  {
   "cell_type": "code",
   "execution_count": 6,
   "id": "4eae2b27-80e2-41cd-8bd9-dcf24f274ec9",
   "metadata": {
    "tags": []
   },
   "outputs": [
    {
     "name": "stderr",
     "output_type": "stream",
     "text": [
      "Using TensorFlow backend.\n",
      "/home/jupyterlab/conda/envs/python/lib/python3.7/site-packages/tensorflow/python/framework/dtypes.py:516: FutureWarning: Passing (type, 1) or '1type' as a synonym of type is deprecated; in a future version of numpy, it will be understood as (type, (1,)) / '(1,)type'.\n",
      "  _np_qint8 = np.dtype([(\"qint8\", np.int8, 1)])\n",
      "/home/jupyterlab/conda/envs/python/lib/python3.7/site-packages/tensorflow/python/framework/dtypes.py:517: FutureWarning: Passing (type, 1) or '1type' as a synonym of type is deprecated; in a future version of numpy, it will be understood as (type, (1,)) / '(1,)type'.\n",
      "  _np_quint8 = np.dtype([(\"quint8\", np.uint8, 1)])\n",
      "/home/jupyterlab/conda/envs/python/lib/python3.7/site-packages/tensorflow/python/framework/dtypes.py:518: FutureWarning: Passing (type, 1) or '1type' as a synonym of type is deprecated; in a future version of numpy, it will be understood as (type, (1,)) / '(1,)type'.\n",
      "  _np_qint16 = np.dtype([(\"qint16\", np.int16, 1)])\n",
      "/home/jupyterlab/conda/envs/python/lib/python3.7/site-packages/tensorflow/python/framework/dtypes.py:519: FutureWarning: Passing (type, 1) or '1type' as a synonym of type is deprecated; in a future version of numpy, it will be understood as (type, (1,)) / '(1,)type'.\n",
      "  _np_quint16 = np.dtype([(\"quint16\", np.uint16, 1)])\n",
      "/home/jupyterlab/conda/envs/python/lib/python3.7/site-packages/tensorflow/python/framework/dtypes.py:520: FutureWarning: Passing (type, 1) or '1type' as a synonym of type is deprecated; in a future version of numpy, it will be understood as (type, (1,)) / '(1,)type'.\n",
      "  _np_qint32 = np.dtype([(\"qint32\", np.int32, 1)])\n",
      "/home/jupyterlab/conda/envs/python/lib/python3.7/site-packages/tensorflow/python/framework/dtypes.py:525: FutureWarning: Passing (type, 1) or '1type' as a synonym of type is deprecated; in a future version of numpy, it will be understood as (type, (1,)) / '(1,)type'.\n",
      "  np_resource = np.dtype([(\"resource\", np.ubyte, 1)])\n",
      "/home/jupyterlab/conda/envs/python/lib/python3.7/site-packages/tensorboard/compat/tensorflow_stub/dtypes.py:541: FutureWarning: Passing (type, 1) or '1type' as a synonym of type is deprecated; in a future version of numpy, it will be understood as (type, (1,)) / '(1,)type'.\n",
      "  _np_qint8 = np.dtype([(\"qint8\", np.int8, 1)])\n",
      "/home/jupyterlab/conda/envs/python/lib/python3.7/site-packages/tensorboard/compat/tensorflow_stub/dtypes.py:542: FutureWarning: Passing (type, 1) or '1type' as a synonym of type is deprecated; in a future version of numpy, it will be understood as (type, (1,)) / '(1,)type'.\n",
      "  _np_quint8 = np.dtype([(\"quint8\", np.uint8, 1)])\n",
      "/home/jupyterlab/conda/envs/python/lib/python3.7/site-packages/tensorboard/compat/tensorflow_stub/dtypes.py:543: FutureWarning: Passing (type, 1) or '1type' as a synonym of type is deprecated; in a future version of numpy, it will be understood as (type, (1,)) / '(1,)type'.\n",
      "  _np_qint16 = np.dtype([(\"qint16\", np.int16, 1)])\n",
      "/home/jupyterlab/conda/envs/python/lib/python3.7/site-packages/tensorboard/compat/tensorflow_stub/dtypes.py:544: FutureWarning: Passing (type, 1) or '1type' as a synonym of type is deprecated; in a future version of numpy, it will be understood as (type, (1,)) / '(1,)type'.\n",
      "  _np_quint16 = np.dtype([(\"quint16\", np.uint16, 1)])\n",
      "/home/jupyterlab/conda/envs/python/lib/python3.7/site-packages/tensorboard/compat/tensorflow_stub/dtypes.py:545: FutureWarning: Passing (type, 1) or '1type' as a synonym of type is deprecated; in a future version of numpy, it will be understood as (type, (1,)) / '(1,)type'.\n",
      "  _np_qint32 = np.dtype([(\"qint32\", np.int32, 1)])\n",
      "/home/jupyterlab/conda/envs/python/lib/python3.7/site-packages/tensorboard/compat/tensorflow_stub/dtypes.py:550: FutureWarning: Passing (type, 1) or '1type' as a synonym of type is deprecated; in a future version of numpy, it will be understood as (type, (1,)) / '(1,)type'.\n",
      "  np_resource = np.dtype([(\"resource\", np.ubyte, 1)])\n"
     ]
    }
   ],
   "source": [
    "#import keras\n",
    "import keras"
   ]
  },
  {
   "cell_type": "code",
   "execution_count": 7,
   "id": "0478bd32-f32d-4712-ae96-8eb69b889f2d",
   "metadata": {
    "tags": []
   },
   "outputs": [],
   "source": [
    "from keras.models import Sequential\n",
    "from keras.layers import Dense"
   ]
  },
  {
   "cell_type": "code",
   "execution_count": 8,
   "id": "c62e953d-e651-4384-b8cf-aaf9172f8173",
   "metadata": {
    "tags": []
   },
   "outputs": [],
   "source": [
    "# define regression model\n",
    "def regression_model():\n",
    "    # create model\n",
    "    model = Sequential()\n",
    "    model.add(Dense(10, activation='relu', input_shape=(n_cols,)))\n",
    "    model.add(Dense(1))\n",
    "    \n",
    "    # compile model\n",
    "    model.compile(optimizer='adam', loss='mean_squared_error')\n",
    "    return model"
   ]
  },
  {
   "cell_type": "code",
   "execution_count": 12,
   "id": "a0a43a4a-d156-45ea-b1b8-66f3ed98b297",
   "metadata": {
    "tags": []
   },
   "outputs": [
    {
     "name": "stdout",
     "output_type": "stream",
     "text": [
      "WARNING:tensorflow:From /home/jupyterlab/conda/envs/python/lib/python3.7/site-packages/keras/backend/tensorflow_backend.py:68: The name tf.get_default_graph is deprecated. Please use tf.compat.v1.get_default_graph instead.\n",
      "\n",
      "WARNING:tensorflow:From /home/jupyterlab/conda/envs/python/lib/python3.7/site-packages/keras/backend/tensorflow_backend.py:508: The name tf.placeholder is deprecated. Please use tf.compat.v1.placeholder instead.\n",
      "\n",
      "WARNING:tensorflow:From /home/jupyterlab/conda/envs/python/lib/python3.7/site-packages/keras/backend/tensorflow_backend.py:3837: The name tf.random_uniform is deprecated. Please use tf.random.uniform instead.\n",
      "\n",
      "WARNING:tensorflow:From /home/jupyterlab/conda/envs/python/lib/python3.7/site-packages/keras/optimizers.py:757: The name tf.train.Optimizer is deprecated. Please use tf.compat.v1.train.Optimizer instead.\n",
      "\n"
     ]
    }
   ],
   "source": [
    "# build the model\n",
    "model = regression_model()"
   ]
  },
  {
   "cell_type": "code",
   "execution_count": 9,
   "id": "909a61bb-f2f5-48d7-85b6-3c089c23beca",
   "metadata": {
    "tags": []
   },
   "outputs": [
    {
     "name": "stderr",
     "output_type": "stream",
     "text": [
      "/home/jupyterlab/conda/envs/python/lib/python3.7/site-packages/sklearn/utils/validation.py:37: DeprecationWarning: distutils Version classes are deprecated. Use packaging.version instead.\n",
      "  LARGE_SPARSE_SUPPORTED = LooseVersion(scipy_version) >= '0.14.0'\n"
     ]
    }
   ],
   "source": [
    "from sklearn.model_selection import train_test_split"
   ]
  },
  {
   "cell_type": "code",
   "execution_count": 10,
   "id": "e121118f-5ff1-47cb-8de1-d29b2435310a",
   "metadata": {
    "tags": []
   },
   "outputs": [],
   "source": [
    "#split training and test data\n",
    "X_train, X_test, y_train, y_test = train_test_split(predictors, target, test_size=0.3, random_state=42)"
   ]
  },
  {
   "cell_type": "code",
   "execution_count": 19,
   "id": "95bf72d5-086c-45cb-9f67-2e293f98aeb4",
   "metadata": {
    "tags": []
   },
   "outputs": [
    {
     "name": "stdout",
     "output_type": "stream",
     "text": [
      "Epoch 1/50\n",
      "721/721 [==============================] - 0s 47us/step - loss: 327.5136\n",
      "Epoch 2/50\n",
      "721/721 [==============================] - 0s 53us/step - loss: 317.4290\n",
      "Epoch 3/50\n",
      "721/721 [==============================] - 0s 58us/step - loss: 308.8981\n",
      "Epoch 4/50\n",
      "721/721 [==============================] - 0s 54us/step - loss: 303.8847\n",
      "Epoch 5/50\n",
      "721/721 [==============================] - 0s 54us/step - loss: 299.7607\n",
      "Epoch 6/50\n",
      "721/721 [==============================] - 0s 52us/step - loss: 295.9653\n",
      "Epoch 7/50\n",
      "721/721 [==============================] - 0s 55us/step - loss: 292.2097\n",
      "Epoch 8/50\n",
      "721/721 [==============================] - 0s 54us/step - loss: 288.3300\n",
      "Epoch 9/50\n",
      "721/721 [==============================] - 0s 55us/step - loss: 286.2126\n",
      "Epoch 10/50\n",
      "721/721 [==============================] - 0s 55us/step - loss: 282.2918\n",
      "Epoch 11/50\n",
      "721/721 [==============================] - 0s 55us/step - loss: 279.5521\n",
      "Epoch 12/50\n",
      "721/721 [==============================] - 0s 52us/step - loss: 277.4598\n",
      "Epoch 13/50\n",
      "721/721 [==============================] - 0s 58us/step - loss: 274.6570\n",
      "Epoch 14/50\n",
      "721/721 [==============================] - 0s 51us/step - loss: 271.4694\n",
      "Epoch 15/50\n",
      "721/721 [==============================] - 0s 53us/step - loss: 268.7310\n",
      "Epoch 16/50\n",
      "721/721 [==============================] - 0s 55us/step - loss: 266.1491\n",
      "Epoch 17/50\n",
      "721/721 [==============================] - 0s 52us/step - loss: 264.5017\n",
      "Epoch 18/50\n",
      "721/721 [==============================] - 0s 55us/step - loss: 260.1987\n",
      "Epoch 19/50\n",
      "721/721 [==============================] - 0s 53us/step - loss: 258.3382\n",
      "Epoch 20/50\n",
      "721/721 [==============================] - 0s 57us/step - loss: 255.3580\n",
      "Epoch 21/50\n",
      "721/721 [==============================] - 0s 54us/step - loss: 255.3635\n",
      "Epoch 22/50\n",
      "721/721 [==============================] - 0s 54us/step - loss: 250.2731\n",
      "Epoch 23/50\n",
      "721/721 [==============================] - 0s 54us/step - loss: 248.5765\n",
      "Epoch 24/50\n",
      "721/721 [==============================] - 0s 56us/step - loss: 245.9963\n",
      "Epoch 25/50\n",
      "721/721 [==============================] - 0s 51us/step - loss: 243.8551\n",
      "Epoch 26/50\n",
      "721/721 [==============================] - 0s 52us/step - loss: 241.4224\n",
      "Epoch 27/50\n",
      "721/721 [==============================] - 0s 42us/step - loss: 239.0064\n",
      "Epoch 28/50\n",
      "721/721 [==============================] - 0s 57us/step - loss: 235.8589\n",
      "Epoch 29/50\n",
      "721/721 [==============================] - 0s 57us/step - loss: 234.8411\n",
      "Epoch 30/50\n",
      "721/721 [==============================] - 0s 53us/step - loss: 232.4397\n",
      "Epoch 31/50\n",
      "721/721 [==============================] - 0s 54us/step - loss: 230.5022\n",
      "Epoch 32/50\n",
      "721/721 [==============================] - 0s 55us/step - loss: 227.5100\n",
      "Epoch 33/50\n",
      "721/721 [==============================] - 0s 53us/step - loss: 225.7326\n",
      "Epoch 34/50\n",
      "721/721 [==============================] - 0s 57us/step - loss: 224.5032\n",
      "Epoch 35/50\n",
      "721/721 [==============================] - 0s 54us/step - loss: 223.5613\n",
      "Epoch 36/50\n",
      "721/721 [==============================] - 0s 59us/step - loss: 220.4192\n",
      "Epoch 37/50\n",
      "721/721 [==============================] - 0s 53us/step - loss: 221.8013\n",
      "Epoch 38/50\n",
      "721/721 [==============================] - 0s 53us/step - loss: 216.0863\n",
      "Epoch 39/50\n",
      "721/721 [==============================] - 0s 67us/step - loss: 214.4271\n",
      "Epoch 40/50\n",
      "721/721 [==============================] - 0s 40us/step - loss: 212.7944\n",
      "Epoch 41/50\n",
      "721/721 [==============================] - 0s 52us/step - loss: 210.5708\n",
      "Epoch 42/50\n",
      "721/721 [==============================] - 0s 54us/step - loss: 208.8349\n",
      "Epoch 43/50\n",
      "721/721 [==============================] - 0s 54us/step - loss: 207.3263\n",
      "Epoch 44/50\n",
      "721/721 [==============================] - 0s 49us/step - loss: 205.4786\n",
      "Epoch 45/50\n",
      "721/721 [==============================] - 0s 53us/step - loss: 204.7510\n",
      "Epoch 46/50\n",
      "721/721 [==============================] - 0s 52us/step - loss: 205.1271\n",
      "Epoch 47/50\n",
      "721/721 [==============================] - 0s 53us/step - loss: 200.8034\n",
      "Epoch 48/50\n",
      "721/721 [==============================] - 0s 41us/step - loss: 198.5347\n",
      "Epoch 49/50\n",
      "721/721 [==============================] - 0s 45us/step - loss: 198.9930\n",
      "Epoch 50/50\n",
      "721/721 [==============================] - 0s 50us/step - loss: 194.6581\n"
     ]
    },
    {
     "data": {
      "text/plain": [
       "<keras.callbacks.History at 0x7f52b0432a90>"
      ]
     },
     "execution_count": 19,
     "metadata": {},
     "output_type": "execute_result"
    }
   ],
   "source": [
    "epochs = 50\n",
    "model.fit(X_train, y_train, epochs=epochs, verbose=1)"
   ]
  },
  {
   "cell_type": "code",
   "execution_count": 20,
   "id": "9808d905-47b7-445c-bd49-bf8a5418ff60",
   "metadata": {
    "tags": []
   },
   "outputs": [
    {
     "name": "stdout",
     "output_type": "stream",
     "text": [
      "309/309 [==============================] - 0s 67us/step\n"
     ]
    },
    {
     "data": {
      "text/plain": [
       "209.01743373438765"
      ]
     },
     "execution_count": 20,
     "metadata": {},
     "output_type": "execute_result"
    }
   ],
   "source": [
    "loss_val = model.evaluate(X_test, y_test)\n",
    "y_pred = model.predict(X_test)\n",
    "loss_val"
   ]
  },
  {
   "cell_type": "code",
   "execution_count": 21,
   "id": "03a61b80-508e-4faa-8f38-99f8ea23a2ce",
   "metadata": {
    "tags": []
   },
   "outputs": [],
   "source": [
    "from sklearn.metrics import mean_squared_error"
   ]
  },
  {
   "cell_type": "code",
   "execution_count": 22,
   "id": "57261a13-8b8a-462f-a3d7-1d52d6dc5f4a",
   "metadata": {
    "tags": []
   },
   "outputs": [
    {
     "name": "stdout",
     "output_type": "stream",
     "text": [
      "209.01742574870534 0.0\n"
     ]
    }
   ],
   "source": [
    "mean_square_error = mean_squared_error(y_test, y_pred)\n",
    "mean = np.mean(mean_square_error)\n",
    "standard_deviation = np.std(mean_square_error)\n",
    "print(mean, standard_deviation)"
   ]
  },
  {
   "cell_type": "code",
   "execution_count": 23,
   "id": "68828490-128a-4f85-99bd-2ea3ed97bb9a",
   "metadata": {
    "tags": []
   },
   "outputs": [
    {
     "name": "stdout",
     "output_type": "stream",
     "text": [
      "MSE 1: 132.15936837304372\n",
      "MSE 2: 142.3044268166749\n",
      "MSE 3: 116.31804605132167\n",
      "MSE 4: 123.52705351203005\n",
      "MSE 5: 127.09130168038278\n",
      "MSE 6: 99.05714332555876\n",
      "MSE 7: 66.96825549671951\n",
      "MSE 8: 53.071715024682696\n",
      "MSE 9: 50.951938616805094\n",
      "MSE 10: 53.1243562914407\n",
      "MSE 11: 47.38895444653952\n",
      "MSE 12: 47.05842563172374\n",
      "MSE 13: 57.22490259435956\n",
      "MSE 14: 52.268679004656846\n",
      "MSE 15: 46.97551875438505\n",
      "MSE 16: 45.19030724682854\n",
      "MSE 17: 44.559359602943594\n",
      "MSE 18: 47.75322715981493\n",
      "MSE 19: 40.71317730752396\n",
      "MSE 20: 44.96810024224439\n",
      "MSE 21: 42.15239098311242\n",
      "MSE 22: 42.108841201634085\n",
      "MSE 23: 40.516321398293705\n",
      "MSE 24: 45.44388464276459\n",
      "MSE 25: 42.56459282439889\n",
      "MSE 26: 49.54508885750879\n",
      "MSE 27: 53.061788145392455\n",
      "MSE 28: 45.72101321421009\n",
      "MSE 29: 49.482487613715016\n",
      "MSE 30: 46.301165275203374\n",
      "MSE 31: 48.782868752587575\n",
      "MSE 32: 39.21554280870555\n",
      "MSE 33: 43.9977140210593\n",
      "MSE 34: 47.83188590879965\n",
      "MSE 35: 44.378015339181644\n",
      "MSE 36: 48.2282266832864\n",
      "MSE 37: 46.50973967518235\n",
      "MSE 38: 51.805425329115785\n",
      "MSE 39: 42.67414962126599\n",
      "MSE 40: 42.15580568035829\n",
      "MSE 41: 47.21693863606376\n",
      "MSE 42: 47.31721259552298\n",
      "MSE 43: 48.294641395988585\n",
      "MSE 44: 49.523366144174126\n",
      "MSE 45: 49.828644909905\n",
      "MSE 46: 45.72305418835489\n",
      "MSE 47: 45.246346939728866\n",
      "MSE 48: 45.986047664506536\n",
      "MSE 49: 45.92423597045701\n",
      "MSE 50: 46.63976982882108\n",
      "\n",
      "\n",
      "Below is the mean and standard deviation of 50 mean squared errors without normalized data. Total number of epochs for each training is: 50\n",
      "\n",
      "Mean: 56.4570291944352\n",
      "Standard Deviation: 25.556807750642776\n"
     ]
    }
   ],
   "source": [
    "total_mean_squared_errors = 50\n",
    "epochs = 50\n",
    "mean_squared_errors = []\n",
    "for i in range(0, total_mean_squared_errors):\n",
    "    X_train, X_test, y_train, y_test = train_test_split(predictors, target, test_size=0.3, random_state=i)\n",
    "    model.fit(X_train, y_train, epochs=epochs, verbose=0)\n",
    "    MSE = model.evaluate(X_test, y_test, verbose=0)\n",
    "    print(\"MSE \"+str(i+1)+\": \"+str(MSE))\n",
    "    y_pred = model.predict(X_test)\n",
    "    mean_square_error = mean_squared_error(y_test, y_pred)\n",
    "    mean_squared_errors.append(mean_square_error)\n",
    "\n",
    "mean_squared_errors = np.array(mean_squared_errors)\n",
    "mean = np.mean(mean_squared_errors)\n",
    "standard_deviation = np.std(mean_squared_errors)\n",
    "\n",
    "print('\\n')\n",
    "print(\"Below is the mean and standard deviation of \" +str(total_mean_squared_errors) + \" mean squared errors without normalized data. Total number of epochs for each training is: \" +str(epochs) + \"\\n\")\n",
    "print(\"Mean: \"+str(mean))\n",
    "print(\"Standard Deviation: \"+str(standard_deviation))"
   ]
  },
  {
   "cell_type": "code",
   "execution_count": null,
   "id": "a113c3d0-b352-4037-9ac5-c16d8641bfa3",
   "metadata": {},
   "outputs": [],
   "source": []
  }
 ],
 "metadata": {
  "kernelspec": {
   "display_name": "Python",
   "language": "python",
   "name": "conda-env-python-py"
  },
  "language_info": {
   "codemirror_mode": {
    "name": "ipython",
    "version": 3
   },
   "file_extension": ".py",
   "mimetype": "text/x-python",
   "name": "python",
   "nbconvert_exporter": "python",
   "pygments_lexer": "ipython3",
   "version": "3.7.12"
  }
 },
 "nbformat": 4,
 "nbformat_minor": 5
}
