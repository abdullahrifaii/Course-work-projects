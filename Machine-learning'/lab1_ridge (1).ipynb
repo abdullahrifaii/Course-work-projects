{
 "cells": [
  {
   "cell_type": "code",
   "execution_count": 19,
   "id": "e88f416c",
   "metadata": {},
   "outputs": [],
   "source": [
    "import numpy as np\n",
    "import pytest\n",
    "from sklearn.linear_model import Ridge\n",
    "\n",
    "class RidgeRegr:\n",
    "    def __init__(self, alpha = 0.0):\n",
    "        self.alpha = alpha\n",
    "\n",
    "    def fit(self, X, Y):\n",
    "        # input:\n",
    "        #  X = np.array, shape = (n, m)\n",
    "        #  Y = np.array, shape = 👎\n",
    "        # Finds theta (approximately) minimising quadratic loss function L with Ridge penalty,\n",
    "        # using an iterative method.\n",
    "\n",
    "        n, m = X.shape\n",
    "        self.theta = np.zeros(m+1)\n",
    "        c = 0.001\n",
    "        result = False\n",
    "\n",
    "        while result == False:\n",
    "            gradient_L = np.zeros(m+1)\n",
    "            gradient_L[0] = -2 * sum(Y - X @ self.theta[1:] - self.theta[0])\n",
    "            \n",
    "            for i in range(m):\n",
    "                gradient_L[i+1] = 2*sum((Y - X @ self.theta[1:] - self.theta[0])*(-X[:,i])) + 2*self.alpha*self.theta[i+1]\n",
    "            self.theta = self.theta - c*gradient_L\n",
    "\n",
    "            if np.linalg.norm(gradient_L) < 10**(-7):\n",
    "                result = True\n",
    "\n",
    "        return self\n",
    "    \n",
    "    def predict(self, X):\n",
    "        # input:\n",
    "        #  X = np.array, shape = (k, m)\n",
    "        # returns:\n",
    "        #  Y = wektor(f(X_1), ..., f(X_k))\n",
    "\n",
    "        k, m = X.shape\n",
    "        Y = self.theta[0] + np.sum(self.theta[1:] * X, axis=1)\n",
    "        return Y\n",
    "\n",
    "def test_RidgeRegressionInOneDim():\n",
    "    X = np.array([1,3,2,5]).reshape((4,1))\n",
    "    Y = np.array([2,5, 3, 8])\n",
    "    X_test = np.array([1,2,10]).reshape((3,1))\n",
    "    alpha = 0.3\n",
    "    expected = Ridge(alpha).fit(X, Y).predict(X_test)\n",
    "    print(expected)\n",
    "    actual = RidgeRegr(alpha).fit(X, Y).predict(X_test)\n",
    "    print(actual)\n",
    "    assert list(actual) == pytest.approx(list(expected), rel=1e-5)\n",
    "\n",
    "def test_RidgeRegressionInThreeDim():\n",
    "    X = np.array([1,2,3,5,4,5,4,3,3,3,2,5]).reshape((4,3))\n",
    "    Y = np.array([2,5, 3, 8])\n",
    "    X_test = np.array([1,0,0, 0,1,0, 0,0,1, 2,5,7, -2,0,3]).reshape((5,3))\n",
    "    alpha = 0.4\n",
    "    expected = Ridge(alpha).fit(X, Y).predict(X_test)\n",
    "    print(expected)\n",
    "    actual = RidgeRegr(alpha).fit(X, Y).predict(X_test)\n",
    "    print(actual)\n",
    "    assert list(actual) == pytest.approx(list(expected), rel=1e-3)"
   ]
  },
  {
   "cell_type": "code",
   "execution_count": 20,
   "id": "a12fe0a0",
   "metadata": {},
   "outputs": [
    {
     "name": "stdout",
     "output_type": "stream",
     "text": [
      "[ 1.88950276  3.38121547 15.31491713]\n",
      "[ 1.8895028   3.38121549 15.31491702]\n"
     ]
    }
   ],
   "source": [
    "test_RidgeRegressionInOneDim()"
   ]
  },
  {
   "cell_type": "code",
   "execution_count": 21,
   "id": "fe0d2939",
   "metadata": {},
   "outputs": [
    {
     "name": "stdout",
     "output_type": "stream",
     "text": [
      "[ 0.54685378 -1.76188321  1.58691716  5.15527388  3.66704391]\n",
      "[ 0.54685342 -1.76188344  1.58691689  5.15527426  3.66704383]\n"
     ]
    }
   ],
   "source": [
    "test_RidgeRegressionInThreeDim()"
   ]
  },
  {
   "cell_type": "code",
   "execution_count": null,
   "id": "b3d09ffd",
   "metadata": {},
   "outputs": [],
   "source": []
  }
 ],
 "metadata": {
  "kernelspec": {
   "display_name": "Python 3 (ipykernel)",
   "language": "python",
   "name": "python3"
  },
  "language_info": {
   "codemirror_mode": {
    "name": "ipython",
    "version": 3
   },
   "file_extension": ".py",
   "mimetype": "text/x-python",
   "name": "python",
   "nbconvert_exporter": "python",
   "pygments_lexer": "ipython3",
   "version": "3.9.7"
  }
 },
 "nbformat": 4,
 "nbformat_minor": 5
}
