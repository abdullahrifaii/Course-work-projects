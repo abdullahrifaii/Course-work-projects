{
  "nbformat": 4,
  "nbformat_minor": 0,
  "metadata": {
    "colab": {
      "provenance": []
    },
    "kernelspec": {
      "name": "python3",
      "display_name": "Python 3"
    },
    "language_info": {
      "name": "python"
    }
  },
  "cells": [
    {
      "cell_type": "markdown",
      "source": [
        "In this document, I training a model using Simple RNN, LSTM, GRU."
      ],
      "metadata": {
        "id": "iNlkEO9GT_zL"
      }
    },
    {
      "cell_type": "code",
      "execution_count": null,
      "metadata": {
        "id": "PMGNXEekPHd5"
      },
      "outputs": [],
      "source": [
        "# Importing the libraries\n",
        "import numpy as np\n",
        "import pandas as pd\n",
        "import matplotlib.pyplot as plt\n",
        "\n",
        "from sklearn.preprocessing import MinMaxScaler\n",
        "from sklearn.metrics import mean_squared_error\n",
        "\n",
        "from tensorflow.keras.models import Sequential\n",
        "from tensorflow.keras.layers import Dense, LSTM,SimpleRNN, Dropout, GRU, Bidirectional\n",
        "from tensorflow.keras.optimizers import SGD\n",
        "from tensorflow.random import set_seed\n",
        "\n",
        "set_seed(455)\n",
        "np.random.seed(455)\n"
      ]
    },
    {
      "cell_type": "code",
      "source": [
        "dataset = pd.read_csv(\n",
        "    \"Mastercard_stock_history.csv\", index_col=\"Date\", parse_dates=[\"Date\"]\n",
        ").drop([\"Dividends\", \"Stock Splits\"], axis=1)\n",
        "print(dataset.head())"
      ],
      "metadata": {
        "colab": {
          "base_uri": "https://localhost:8080/"
        },
        "id": "ImKcL79xPKr-",
        "outputId": "12388345-623e-430b-89f8-4c3792c9b9ea"
      },
      "execution_count": null,
      "outputs": [
        {
          "output_type": "stream",
          "name": "stdout",
          "text": [
            "                Open      High       Low     Close     Volume\n",
            "Date                                                         \n",
            "2006-05-25  3.748967  4.283869  3.739664  4.279217  395343000\n",
            "2006-05-26  4.307126  4.348058  4.103398  4.179680  103044000\n",
            "2006-05-30  4.183400  4.184330  3.986184  4.093164   49898000\n",
            "2006-05-31  4.125723  4.219679  4.125723  4.180608   30002000\n",
            "2006-06-01  4.179678  4.474572  4.176887  4.419686   62344000\n"
          ]
        }
      ]
    },
    {
      "cell_type": "code",
      "source": [
        "tstart=2016\n",
        "tend=2020\n",
        "def train_test_split(dataset, tstart, tend):\n",
        "    train = dataset.loc[f\"{tstart}\":f\"{tend}\", \"High\"].values\n",
        "    test = dataset.loc[f\"{tend+1}\":, \"High\"].values\n",
        "    return train, test\n",
        "training_set, test_set = train_test_split(dataset, tstart, tend)\n"
      ],
      "metadata": {
        "id": "uyx-pc4BQX19"
      },
      "execution_count": null,
      "outputs": []
    },
    {
      "cell_type": "code",
      "source": [
        "#standarizing the datasets\n",
        "sc = MinMaxScaler(feature_range=(0, 1))\n",
        "training_set = training_set.reshape(-1, 1)\n",
        "training_set_scaled = sc.fit_transform(training_set)\n"
      ],
      "metadata": {
        "id": "qX1yyzV8Qv46"
      },
      "execution_count": null,
      "outputs": []
    },
    {
      "cell_type": "code",
      "source": [
        "#split_sequence function uses a training dataset and converts it into inputs (X_train) and outputs (y_train).\n",
        "def split_sequence(sequence, n_steps):\n",
        "    X, y = list(), list()\n",
        "    for i in range(len(sequence)):\n",
        "        end_ix = i + n_steps\n",
        "        if end_ix > len(sequence) - 1:\n",
        "            break\n",
        "        seq_x, seq_y = sequence[i:end_ix], sequence[end_ix]\n",
        "        X.append(seq_x)\n",
        "        y.append(seq_y)\n",
        "    return np.array(X), np.array(y)\n",
        "\n",
        "\n",
        "n_steps = 60\n",
        "features = 1\n",
        "# split into samples\n",
        "X_train, y_train = split_sequence(training_set_scaled, n_steps)\n",
        "# Reshaping X_train for model\n",
        "X_train = X_train.reshape(X_train.shape[0],X_train.shape[1],features)\n"
      ],
      "metadata": {
        "id": "KgyfruYNRgrW"
      },
      "execution_count": null,
      "outputs": []
    },
    {
      "cell_type": "code",
      "source": [
        "\n",
        "# The LSTM architecture\n",
        "model_lstm = Sequential()\n",
        "model_lstm.add(LSTM(units=125, activation=\"tanh\", input_shape=(n_steps, features)))\n",
        "model_lstm.add(Dense(units=1))\n",
        "# Compiling the model\n",
        "model_lstm.compile(optimizer=\"RMSprop\", loss=\"mse\")\n",
        "\n",
        "model_lstm.summary()\n",
        "Model: \"sequential\"\n",
        "model_lstm.fit(X_train, y_train, epochs=50, batch_size=32)"
      ],
      "metadata": {
        "colab": {
          "base_uri": "https://localhost:8080/"
        },
        "id": "gAdejPniRir2",
        "outputId": "b5f4f367-d9d5-4f94-945f-dca71bdc9aa5"
      },
      "execution_count": null,
      "outputs": [
        {
          "output_type": "stream",
          "name": "stdout",
          "text": [
            "Model: \"sequential\"\n",
            "_________________________________________________________________\n",
            " Layer (type)                Output Shape              Param #   \n",
            "=================================================================\n",
            " lstm (LSTM)                 (None, 125)               63500     \n",
            "                                                                 \n",
            " dense (Dense)               (None, 1)                 126       \n",
            "                                                                 \n",
            "=================================================================\n",
            "Total params: 63,626\n",
            "Trainable params: 63,626\n",
            "Non-trainable params: 0\n",
            "_________________________________________________________________\n",
            "Epoch 1/50\n",
            "38/38 [==============================] - 6s 79ms/step - loss: 0.0142\n",
            "Epoch 2/50\n",
            "38/38 [==============================] - 3s 78ms/step - loss: 0.0027\n",
            "Epoch 3/50\n",
            "38/38 [==============================] - 3s 79ms/step - loss: 0.0020\n",
            "Epoch 4/50\n",
            "38/38 [==============================] - 3s 79ms/step - loss: 0.0019\n",
            "Epoch 5/50\n",
            "38/38 [==============================] - 3s 78ms/step - loss: 0.0014\n",
            "Epoch 6/50\n",
            "38/38 [==============================] - 3s 79ms/step - loss: 0.0015\n",
            "Epoch 7/50\n",
            "38/38 [==============================] - 3s 77ms/step - loss: 9.8815e-04\n",
            "Epoch 8/50\n",
            "38/38 [==============================] - 3s 77ms/step - loss: 0.0012\n",
            "Epoch 9/50\n",
            "38/38 [==============================] - 3s 77ms/step - loss: 9.5304e-04\n",
            "Epoch 10/50\n",
            "38/38 [==============================] - 3s 76ms/step - loss: 0.0011\n",
            "Epoch 11/50\n",
            "38/38 [==============================] - 3s 79ms/step - loss: 8.7653e-04\n",
            "Epoch 12/50\n",
            "38/38 [==============================] - 3s 77ms/step - loss: 8.3199e-04\n",
            "Epoch 13/50\n",
            "38/38 [==============================] - 3s 76ms/step - loss: 8.8569e-04\n",
            "Epoch 14/50\n",
            "38/38 [==============================] - 3s 77ms/step - loss: 7.0900e-04\n",
            "Epoch 15/50\n",
            "38/38 [==============================] - 3s 80ms/step - loss: 7.4621e-04\n",
            "Epoch 16/50\n",
            "38/38 [==============================] - 3s 77ms/step - loss: 6.6837e-04\n",
            "Epoch 17/50\n",
            "38/38 [==============================] - 3s 77ms/step - loss: 6.7818e-04\n",
            "Epoch 18/50\n",
            "38/38 [==============================] - 3s 78ms/step - loss: 6.0870e-04\n",
            "Epoch 19/50\n",
            "38/38 [==============================] - 3s 77ms/step - loss: 6.0715e-04\n",
            "Epoch 20/50\n",
            "38/38 [==============================] - 3s 76ms/step - loss: 5.9776e-04\n",
            "Epoch 21/50\n",
            "38/38 [==============================] - 4s 114ms/step - loss: 6.4042e-04\n",
            "Epoch 22/50\n",
            "38/38 [==============================] - 7s 176ms/step - loss: 5.9161e-04\n",
            "Epoch 23/50\n",
            "38/38 [==============================] - 7s 182ms/step - loss: 5.6605e-04\n",
            "Epoch 24/50\n",
            "38/38 [==============================] - 7s 175ms/step - loss: 5.4168e-04\n",
            "Epoch 25/50\n",
            "38/38 [==============================] - 6s 162ms/step - loss: 5.5294e-04\n",
            "Epoch 26/50\n",
            "38/38 [==============================] - 3s 83ms/step - loss: 4.6266e-04\n",
            "Epoch 27/50\n",
            "38/38 [==============================] - 4s 94ms/step - loss: 5.0200e-04\n",
            "Epoch 28/50\n",
            "38/38 [==============================] - 4s 99ms/step - loss: 5.0921e-04\n",
            "Epoch 29/50\n",
            "38/38 [==============================] - 4s 111ms/step - loss: 4.9414e-04\n",
            "Epoch 30/50\n",
            "38/38 [==============================] - 4s 114ms/step - loss: 5.0622e-04\n",
            "Epoch 31/50\n",
            "38/38 [==============================] - 5s 124ms/step - loss: 4.3510e-04\n",
            "Epoch 32/50\n",
            "38/38 [==============================] - 3s 76ms/step - loss: 4.6494e-04\n",
            "Epoch 33/50\n",
            "38/38 [==============================] - 3s 75ms/step - loss: 4.7487e-04\n",
            "Epoch 34/50\n",
            "38/38 [==============================] - 3s 77ms/step - loss: 4.5414e-04\n",
            "Epoch 35/50\n",
            "38/38 [==============================] - 3s 77ms/step - loss: 4.3162e-04\n",
            "Epoch 36/50\n",
            "38/38 [==============================] - 3s 77ms/step - loss: 4.2771e-04\n",
            "Epoch 37/50\n",
            "38/38 [==============================] - 3s 76ms/step - loss: 4.2618e-04\n",
            "Epoch 38/50\n",
            "38/38 [==============================] - 3s 75ms/step - loss: 3.9054e-04\n",
            "Epoch 39/50\n",
            "38/38 [==============================] - 3s 77ms/step - loss: 4.3622e-04\n",
            "Epoch 40/50\n",
            "38/38 [==============================] - 3s 76ms/step - loss: 4.0002e-04\n",
            "Epoch 41/50\n",
            "38/38 [==============================] - 3s 75ms/step - loss: 4.3640e-04\n",
            "Epoch 42/50\n",
            "38/38 [==============================] - 3s 76ms/step - loss: 4.1052e-04\n",
            "Epoch 43/50\n",
            "38/38 [==============================] - 3s 76ms/step - loss: 4.7130e-04\n",
            "Epoch 44/50\n",
            "38/38 [==============================] - 3s 75ms/step - loss: 3.1940e-04\n",
            "Epoch 45/50\n",
            "38/38 [==============================] - 3s 76ms/step - loss: 3.8703e-04\n",
            "Epoch 46/50\n",
            "38/38 [==============================] - 3s 77ms/step - loss: 3.8800e-04\n",
            "Epoch 47/50\n",
            "38/38 [==============================] - 3s 75ms/step - loss: 3.9996e-04\n",
            "Epoch 48/50\n",
            "38/38 [==============================] - 3s 75ms/step - loss: 3.1861e-04\n",
            "Epoch 49/50\n",
            "38/38 [==============================] - 3s 75ms/step - loss: 3.8585e-04\n",
            "Epoch 50/50\n",
            "38/38 [==============================] - 3s 76ms/step - loss: 3.5765e-04\n"
          ]
        },
        {
          "output_type": "execute_result",
          "data": {
            "text/plain": [
              "<keras.callbacks.History at 0x7fa40106e910>"
            ]
          },
          "metadata": {},
          "execution_count": 9
        }
      ]
    },
    {
      "cell_type": "code",
      "source": [
        "dataset_total = dataset.loc[:,\"High\"]\n",
        "inputs = dataset_total[len(dataset_total) - len(test_set) - n_steps :].values\n",
        "inputs = inputs.reshape(-1, 1)\n",
        "#scaling\n",
        "inputs = sc.transform(inputs)\n",
        "\n",
        "# Split into samples\n",
        "X_test, y_test = split_sequence(inputs, n_steps)\n",
        "# reshape\n",
        "X_test = X_test.reshape(X_test.shape[0], X_test.shape[1], features)\n",
        "#prediction\n",
        "predicted_stock_price = model_lstm.predict(X_test)\n",
        "#inverse transform the values\n",
        "predicted_stock_price = sc.inverse_transform(predicted_stock_price)\n"
      ],
      "metadata": {
        "colab": {
          "base_uri": "https://localhost:8080/"
        },
        "id": "BQwC641HSOet",
        "outputId": "1b05e67c-049f-492a-9013-dd2a3e45e5b0"
      },
      "execution_count": null,
      "outputs": [
        {
          "output_type": "stream",
          "name": "stdout",
          "text": [
            "7/7 [==============================] - 1s 34ms/step\n"
          ]
        }
      ]
    },
    {
      "cell_type": "code",
      "source": [
        "def plot_predictions(test, predicted):\n",
        "    plt.plot(test, color=\"gray\", label=\"Real\")\n",
        "    plt.plot(predicted, color=\"red\", label=\"Predicted\")\n",
        "    plt.title(\"MasterCard Stock Price Prediction\")\n",
        "    plt.xlabel(\"Time\")\n",
        "    plt.ylabel(\"MasterCard Stock Price\")\n",
        "    plt.legend()\n",
        "    plt.show()\n",
        "\n",
        "\n",
        "def return_rmse(test, predicted):\n",
        "    rmse = np.sqrt(mean_squared_error(test, predicted))\n",
        "    print(\"The root mean squared error is {:.2f}.\".format(rmse))\n",
        "plot_predictions(test_set,predicted_stock_price)\n"
      ],
      "metadata": {
        "colab": {
          "base_uri": "https://localhost:8080/",
          "height": 295
        },
        "id": "5KJVLcURS6X8",
        "outputId": "7b3247ba-90a9-4a69-ee34-643369c464aa"
      },
      "execution_count": null,
      "outputs": [
        {
          "output_type": "display_data",
          "data": {
            "text/plain": [
              "<Figure size 432x288 with 1 Axes>"
            ],
            "image/png": "[encoded data removed]"
          },
          "metadata": {
            "needs_background": "light"
          }
        }
      ]
    },
    {
      "cell_type": "markdown",
      "source": [
        "## GRU Model"
      ],
      "metadata": {
        "id": "cwRpwbx5Tjnm"
      }
    },
    {
      "cell_type": "code",
      "source": [
        "model_gru = Sequential()\n",
        "model_gru.add(GRU(units=125, activation=\"tanh\", input_shape=(n_steps, features)))\n",
        "model_gru.add(Dense(units=1))\n",
        "# Compiling the RNN\n",
        "model_gru.compile(optimizer=\"RMSprop\", loss=\"mse\")\n",
        "\n",
        "model_gru.summary()\n",
        "model_gru.fit(X_train, y_train, epochs=50, batch_size=32)\n"
      ],
      "metadata": {
        "colab": {
          "base_uri": "https://localhost:8080/"
        },
        "id": "EYRr4XrrTmoN",
        "outputId": "41eb89a2-d66d-43d6-f7f1-cae2e136499b"
      },
      "execution_count": null,
      "outputs": [
        {
          "output_type": "stream",
          "name": "stdout",
          "text": [
            "Model: \"sequential_1\"\n",
            "_________________________________________________________________\n",
            " Layer (type)                Output Shape              Param #   \n",
            "=================================================================\n",
            " gru (GRU)                   (None, 125)               48000     \n",
            "                                                                 \n",
            " dense_1 (Dense)             (None, 1)                 126       \n",
            "                                                                 \n",
            "=================================================================\n",
            "Total params: 48,126\n",
            "Trainable params: 48,126\n",
            "Non-trainable params: 0\n",
            "_________________________________________________________________\n",
            "Epoch 1/50\n",
            "38/38 [==============================] - 5s 60ms/step - loss: 0.0192\n",
            "Epoch 2/50\n",
            "38/38 [==============================] - 2s 59ms/step - loss: 0.0021\n",
            "Epoch 3/50\n",
            "38/38 [==============================] - 2s 60ms/step - loss: 0.0016\n",
            "Epoch 4/50\n",
            "38/38 [==============================] - 2s 58ms/step - loss: 0.0013\n",
            "Epoch 5/50\n",
            "38/38 [==============================] - 2s 59ms/step - loss: 9.1869e-04\n",
            "Epoch 6/50\n",
            "38/38 [==============================] - 2s 59ms/step - loss: 9.9658e-04\n",
            "Epoch 7/50\n",
            "38/38 [==============================] - 2s 60ms/step - loss: 6.7015e-04\n",
            "Epoch 8/50\n",
            "38/38 [==============================] - 2s 60ms/step - loss: 7.6807e-04\n",
            "Epoch 9/50\n",
            "38/38 [==============================] - 2s 62ms/step - loss: 6.7032e-04\n",
            "Epoch 10/50\n",
            "38/38 [==============================] - 4s 97ms/step - loss: 7.1882e-04\n",
            "Epoch 11/50\n",
            "38/38 [==============================] - 4s 106ms/step - loss: 5.9915e-04\n",
            "Epoch 12/50\n",
            "38/38 [==============================] - 3s 68ms/step - loss: 5.4595e-04\n",
            "Epoch 13/50\n",
            "38/38 [==============================] - 3s 71ms/step - loss: 5.8023e-04\n",
            "Epoch 14/50\n",
            "38/38 [==============================] - 3s 75ms/step - loss: 5.2074e-04\n",
            "Epoch 15/50\n",
            "38/38 [==============================] - 3s 70ms/step - loss: 5.1166e-04\n",
            "Epoch 16/50\n",
            "38/38 [==============================] - 3s 79ms/step - loss: 4.6387e-04\n",
            "Epoch 17/50\n",
            "38/38 [==============================] - 3s 80ms/step - loss: 5.6591e-04\n",
            "Epoch 18/50\n",
            "38/38 [==============================] - 3s 60ms/step - loss: 4.4506e-04\n",
            "Epoch 19/50\n",
            "38/38 [==============================] - 3s 72ms/step - loss: 4.4996e-04\n",
            "Epoch 20/50\n",
            "38/38 [==============================] - 3s 69ms/step - loss: 4.5340e-04\n",
            "Epoch 21/50\n",
            "38/38 [==============================] - 2s 64ms/step - loss: 5.0015e-04\n",
            "Epoch 22/50\n",
            "38/38 [==============================] - 3s 90ms/step - loss: 4.6022e-04\n",
            "Epoch 23/50\n",
            "38/38 [==============================] - 3s 70ms/step - loss: 4.2686e-04\n",
            "Epoch 24/50\n",
            "38/38 [==============================] - 3s 72ms/step - loss: 4.4660e-04\n",
            "Epoch 25/50\n",
            "38/38 [==============================] - 2s 61ms/step - loss: 4.4677e-04\n",
            "Epoch 26/50\n",
            "38/38 [==============================] - 4s 98ms/step - loss: 4.4105e-04\n",
            "Epoch 27/50\n",
            "38/38 [==============================] - 5s 135ms/step - loss: 3.7576e-04\n",
            "Epoch 28/50\n",
            "38/38 [==============================] - 5s 121ms/step - loss: 4.1052e-04\n",
            "Epoch 29/50\n",
            "38/38 [==============================] - 5s 120ms/step - loss: 3.8219e-04\n",
            "Epoch 30/50\n",
            "38/38 [==============================] - 5s 128ms/step - loss: 4.0813e-04\n",
            "Epoch 31/50\n",
            "38/38 [==============================] - 3s 86ms/step - loss: 3.6876e-04\n",
            "Epoch 32/50\n",
            "38/38 [==============================] - 2s 59ms/step - loss: 3.4825e-04\n",
            "Epoch 33/50\n",
            "38/38 [==============================] - 2s 58ms/step - loss: 3.8203e-04\n",
            "Epoch 34/50\n",
            "38/38 [==============================] - 2s 59ms/step - loss: 3.7925e-04\n",
            "Epoch 35/50\n",
            "38/38 [==============================] - 2s 60ms/step - loss: 3.5754e-04\n",
            "Epoch 36/50\n",
            "38/38 [==============================] - 2s 60ms/step - loss: 3.6198e-04\n",
            "Epoch 37/50\n",
            "38/38 [==============================] - 2s 59ms/step - loss: 3.5631e-04\n",
            "Epoch 38/50\n",
            "38/38 [==============================] - 2s 60ms/step - loss: 3.5051e-04\n",
            "Epoch 39/50\n",
            "38/38 [==============================] - 2s 61ms/step - loss: 3.4734e-04\n",
            "Epoch 40/50\n",
            "38/38 [==============================] - 2s 60ms/step - loss: 3.6357e-04\n",
            "Epoch 41/50\n",
            "38/38 [==============================] - 2s 60ms/step - loss: 3.4946e-04\n",
            "Epoch 42/50\n",
            "38/38 [==============================] - 2s 59ms/step - loss: 2.9869e-04\n",
            "Epoch 43/50\n",
            "38/38 [==============================] - 2s 59ms/step - loss: 4.2679e-04\n",
            "Epoch 44/50\n",
            "38/38 [==============================] - 2s 59ms/step - loss: 2.8587e-04\n",
            "Epoch 45/50\n",
            "38/38 [==============================] - 2s 61ms/step - loss: 3.3178e-04\n",
            "Epoch 46/50\n",
            "38/38 [==============================] - 2s 60ms/step - loss: 3.5289e-04\n",
            "Epoch 47/50\n",
            "38/38 [==============================] - 2s 60ms/step - loss: 3.4866e-04\n",
            "Epoch 48/50\n",
            "38/38 [==============================] - 2s 60ms/step - loss: 2.5886e-04\n",
            "Epoch 49/50\n",
            "38/38 [==============================] - 2s 59ms/step - loss: 3.1940e-04\n",
            "Epoch 50/50\n",
            "38/38 [==============================] - 2s 60ms/step - loss: 3.2409e-04\n"
          ]
        },
        {
          "output_type": "execute_result",
          "data": {
            "text/plain": [
              "<keras.callbacks.History at 0x7fa3fc48ddc0>"
            ]
          },
          "metadata": {},
          "execution_count": 12
        }
      ]
    },
    {
      "cell_type": "code",
      "source": [
        "GRU_predicted_stock_price = model_gru.predict(X_test)\n",
        "GRU_predicted_stock_price = sc.inverse_transform(GRU_predicted_stock_price)\n",
        "plot_predictions(test_set, GRU_predicted_stock_price)"
      ],
      "metadata": {
        "colab": {
          "base_uri": "https://localhost:8080/",
          "height": 312
        },
        "id": "zz5mijEKTpFV",
        "outputId": "f17278aa-aac9-4fd1-c953-afc34eba8f67"
      },
      "execution_count": null,
      "outputs": [
        {
          "output_type": "stream",
          "name": "stdout",
          "text": [
            "7/7 [==============================] - 1s 17ms/step\n"
          ]
        },
        {
          "output_type": "display_data",
          "data": {
            "text/plain": [
              "<Figure size 432x288 with 1 Axes>"
            ],
            "image/png": "[encoded data removed]"
          },
          "metadata": {
            "needs_background": "light"
          }
        }
      ]
    },
    {
      "cell_type": "markdown",
      "source": [
        "## Simple model"
      ],
      "metadata": {
        "id": "jfIFKfe_7KlL"
      }
    },
    {
      "cell_type": "code",
      "source": [
        "model_simple = Sequential()\n",
        "model_simple.add(SimpleRNN(units=125, activation=\"tanh\", input_shape=(n_steps, features)))\n",
        "model_simple.add(Dense(units=1))\n",
        "# Compiling the RNN\n",
        "model_simple.compile(optimizer=\"RMSprop\", loss=\"mse\")\n",
        "\n",
        "model_simple.summary()\n",
        "model_simple.fit(X_train, y_train, epochs=50, batch_size=32)\n"
      ],
      "metadata": {
        "colab": {
          "base_uri": "https://localhost:8080/"
        },
        "id": "u1YjeQep5ToJ",
        "outputId": "fea7acf3-2359-4bf6-ab76-83275915de21"
      },
      "execution_count": null,
      "outputs": [
        {
          "output_type": "stream",
          "name": "stdout",
          "text": [
            "Model: \"sequential_2\"\n",
            "_________________________________________________________________\n",
            " Layer (type)                Output Shape              Param #   \n",
            "=================================================================\n",
            " simple_rnn (SimpleRNN)      (None, 125)               15875     \n",
            "                                                                 \n",
            " dense_2 (Dense)             (None, 1)                 126       \n",
            "                                                                 \n",
            "=================================================================\n",
            "Total params: 16,001\n",
            "Trainable params: 16,001\n",
            "Non-trainable params: 0\n",
            "_________________________________________________________________\n",
            "Epoch 1/50\n",
            "38/38 [==============================] - 2s 19ms/step - loss: 0.0324\n",
            "Epoch 2/50\n",
            "38/38 [==============================] - 1s 21ms/step - loss: 0.0062\n",
            "Epoch 3/50\n",
            "38/38 [==============================] - 1s 19ms/step - loss: 0.0033\n",
            "Epoch 4/50\n",
            "38/38 [==============================] - 1s 37ms/step - loss: 0.0021\n",
            "Epoch 5/50\n",
            "38/38 [==============================] - 1s 19ms/step - loss: 0.0307\n",
            "Epoch 6/50\n",
            "38/38 [==============================] - 1s 19ms/step - loss: 5.2344e-04\n",
            "Epoch 7/50\n",
            "38/38 [==============================] - 1s 19ms/step - loss: 8.3854e-04\n",
            "Epoch 8/50\n",
            "38/38 [==============================] - 1s 19ms/step - loss: 0.0011\n",
            "Epoch 9/50\n",
            "38/38 [==============================] - 1s 19ms/step - loss: 0.0011\n",
            "Epoch 10/50\n",
            "38/38 [==============================] - 1s 19ms/step - loss: 0.0011\n",
            "Epoch 11/50\n",
            "38/38 [==============================] - 1s 18ms/step - loss: 0.0012\n",
            "Epoch 12/50\n",
            "38/38 [==============================] - 1s 18ms/step - loss: 4.1709e-04\n",
            "Epoch 13/50\n",
            "38/38 [==============================] - 1s 19ms/step - loss: 6.6310e-04\n",
            "Epoch 14/50\n",
            "38/38 [==============================] - 1s 19ms/step - loss: 6.7071e-04\n",
            "Epoch 15/50\n",
            "38/38 [==============================] - 1s 19ms/step - loss: 0.0010\n",
            "Epoch 16/50\n",
            "38/38 [==============================] - 1s 19ms/step - loss: 2.8680e-04\n",
            "Epoch 17/50\n",
            "38/38 [==============================] - 1s 19ms/step - loss: 5.4379e-04\n",
            "Epoch 18/50\n",
            "38/38 [==============================] - 1s 19ms/step - loss: 4.8091e-04\n",
            "Epoch 19/50\n",
            "38/38 [==============================] - 1s 18ms/step - loss: 5.5142e-04\n",
            "Epoch 20/50\n",
            "38/38 [==============================] - 1s 18ms/step - loss: 4.5446e-04\n",
            "Epoch 21/50\n",
            "38/38 [==============================] - 1s 19ms/step - loss: 4.9608e-04\n",
            "Epoch 22/50\n",
            "38/38 [==============================] - 1s 19ms/step - loss: 5.0080e-04\n",
            "Epoch 23/50\n",
            "38/38 [==============================] - 1s 19ms/step - loss: 3.6499e-04\n",
            "Epoch 24/50\n",
            "38/38 [==============================] - 1s 20ms/step - loss: 4.0136e-04\n",
            "Epoch 25/50\n",
            "38/38 [==============================] - 1s 19ms/step - loss: 4.3286e-04\n",
            "Epoch 26/50\n",
            "38/38 [==============================] - 1s 18ms/step - loss: 4.3323e-04\n",
            "Epoch 27/50\n",
            "38/38 [==============================] - 1s 19ms/step - loss: 3.4672e-04\n",
            "Epoch 28/50\n",
            "38/38 [==============================] - 1s 19ms/step - loss: 3.8881e-04\n",
            "Epoch 29/50\n",
            "38/38 [==============================] - 1s 19ms/step - loss: 3.6416e-04\n",
            "Epoch 30/50\n",
            "38/38 [==============================] - 1s 19ms/step - loss: 3.8763e-04\n",
            "Epoch 31/50\n",
            "38/38 [==============================] - 1s 19ms/step - loss: 3.6340e-04\n",
            "Epoch 32/50\n",
            "38/38 [==============================] - 1s 19ms/step - loss: 3.3037e-04\n",
            "Epoch 33/50\n",
            "38/38 [==============================] - 1s 19ms/step - loss: 3.6240e-04\n",
            "Epoch 34/50\n",
            "38/38 [==============================] - 1s 20ms/step - loss: 3.8583e-04\n",
            "Epoch 35/50\n",
            "38/38 [==============================] - 1s 19ms/step - loss: 0.0033\n",
            "Epoch 36/50\n",
            "38/38 [==============================] - 1s 18ms/step - loss: 1.7772e-04\n",
            "Epoch 37/50\n",
            "38/38 [==============================] - 1s 19ms/step - loss: 2.9293e-04\n",
            "Epoch 38/50\n",
            "38/38 [==============================] - 1s 18ms/step - loss: 3.2289e-04\n",
            "Epoch 39/50\n",
            "38/38 [==============================] - 1s 19ms/step - loss: 3.7120e-04\n",
            "Epoch 40/50\n",
            "38/38 [==============================] - 1s 18ms/step - loss: 0.0017\n",
            "Epoch 41/50\n",
            "38/38 [==============================] - 1s 19ms/step - loss: 2.3188e-04\n",
            "Epoch 42/50\n",
            "38/38 [==============================] - 1s 19ms/step - loss: 3.2037e-04\n",
            "Epoch 43/50\n",
            "38/38 [==============================] - 1s 19ms/step - loss: 4.0031e-04\n",
            "Epoch 44/50\n",
            "38/38 [==============================] - 1s 19ms/step - loss: 0.0065\n",
            "Epoch 45/50\n",
            "38/38 [==============================] - 1s 20ms/step - loss: 1.7361e-04\n",
            "Epoch 46/50\n",
            "38/38 [==============================] - 1s 18ms/step - loss: 2.3898e-04\n",
            "Epoch 47/50\n",
            "38/38 [==============================] - 1s 19ms/step - loss: 3.2176e-04\n",
            "Epoch 48/50\n",
            "38/38 [==============================] - 1s 19ms/step - loss: 2.6532e-04\n",
            "Epoch 49/50\n",
            "38/38 [==============================] - 1s 19ms/step - loss: 3.2954e-04\n",
            "Epoch 50/50\n",
            "38/38 [==============================] - 1s 19ms/step - loss: 3.3733e-04\n"
          ]
        },
        {
          "output_type": "execute_result",
          "data": {
            "text/plain": [
              "<keras.callbacks.History at 0x7fa3fb135dc0>"
            ]
          },
          "metadata": {},
          "execution_count": 15
        }
      ]
    },
    {
      "cell_type": "code",
      "source": [
        "simple_predicted_stock_price = model_simple.predict(X_test)\n",
        "simple_predicted_stock_price = sc.inverse_transform(simple_predicted_stock_price)\n",
        "plot_predictions(test_set, simple_predicted_stock_price)"
      ],
      "metadata": {
        "colab": {
          "base_uri": "https://localhost:8080/",
          "height": 312
        },
        "id": "94-wNth57I4W",
        "outputId": "7b8723d4-873b-4564-f5e0-9b7ea9655030"
      },
      "execution_count": null,
      "outputs": [
        {
          "output_type": "stream",
          "name": "stdout",
          "text": [
            "7/7 [==============================] - 0s 8ms/step\n"
          ]
        },
        {
          "output_type": "display_data",
          "data": {
            "text/plain": [
              "<Figure size 432x288 with 1 Axes>"
            ],
            "image/png": "[encoded data removed]"
          },
          "metadata": {
            "needs_background": "light"
          }
        }
      ]
    }
  ]
}