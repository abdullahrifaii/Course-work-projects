{
  "nbformat": 4,
  "nbformat_minor": 0,
  "metadata": {
    "colab": {
      "provenance": []
    },
    "kernelspec": {
      "name": "python3",
      "display_name": "Python 3"
    },
    "language_info": {
      "name": "python"
    }
  },
  "cells": [
    {
      "cell_type": "markdown",
      "source": [
        "In this document, I will do some expirement by manipulating the layer of a machine learning architecture to see how it works better"
      ],
      "metadata": {
        "id": "BP9XkM2vS8uk"
      }
    },
    {
      "cell_type": "code",
      "source": [
        "\n",
        "print(x_train.shape)\n",
        "print(x_train[0].shape)\n",
        "\n",
        "model = Sequential()\n",
        "#LSTM has four interacting layers that communicate with each other\n",
        "model.add(LSTM(64, input_shape=(x_train.shape[1:]), activation='relu', return_sequences=True))\n",
        "model.add(Dropout(0.2))\n",
        "\n",
        "model.add(LSTM(64, activation='relu'))\n",
        "model.add(Dropout(0.1))\n",
        "\n",
        "model.add(Dense(32, activation='relu'))\n",
        "model.add(Dropout(0.2))\n",
        "\n",
        "model.add(Dense(10, activation='softmax'))\n",
        "\n",
        "opt = tf.keras.optimizers.Adam(lr=0.001, decay=1e-6)\n",
        "\n",
        "# Compile model\n",
        "model.compile(\n",
        "    loss='sparse_categorical_crossentropy',\n",
        "    optimizer=opt,\n",
        "    metrics=['accuracy'],\n",
        ")\n",
        "\n",
        "model.fit(x_train,\n",
        "          y_train,\n",
        "          epochs=3,\n",
        "          validation_data=(x_test, y_test))"
      ],
      "metadata": {
        "colab": {
          "base_uri": "https://localhost:8080/"
        },
        "id": "5y2IiDQLM5Gh",
        "outputId": "903a4864-ea6a-4687-9078-1224f9384ca1"
      },
      "execution_count": null,
      "outputs": [
        {
          "output_type": "stream",
          "name": "stdout",
          "text": [
            "(60000, 28, 28)\n",
            "(28, 28)\n",
            "Epoch 1/3\n",
            "1875/1875 [==============================] - 59s 31ms/step - loss: 0.6721 - accuracy: 0.7770 - val_loss: 0.1785 - val_accuracy: 0.9451\n",
            "Epoch 2/3\n",
            "1875/1875 [==============================] - 58s 31ms/step - loss: 0.2009 - accuracy: 0.9439 - val_loss: 0.1314 - val_accuracy: 0.9616\n",
            "Epoch 3/3\n",
            "1875/1875 [==============================] - 59s 31ms/step - loss: 0.1308 - accuracy: 0.9634 - val_loss: 0.0825 - val_accuracy: 0.9732\n"
          ]
        },
        {
          "output_type": "execute_result",
          "data": {
            "text/plain": [
              "<keras.callbacks.History at 0x7f0ed17464f0>"
            ]
          },
          "metadata": {},
          "execution_count": 3
        }
      ]
    },
    {
      "cell_type": "code",
      "source": [
        "\n",
        "print(x_train.shape)\n",
        "print(x_train[0].shape)\n",
        "\n",
        "model = Sequential()\n",
        "#LSTM has four interacting layers that communicate with each other\n",
        "model.add(LSTM(64, input_shape=(x_train.shape[1:]), activation='relu', return_sequences=True))\n",
        "#model.add(Dropout(0.2))\n",
        "\n",
        "model.add(LSTM(64, activation='relu'))\n",
        "#model.add(Dropout(0.1))\n",
        "\n",
        "model.add(Dense(32, activation='relu'))\n",
        "#model.add(Dropout(0.2))\n",
        "\n",
        "model.add(Dense(10, activation='softmax'))\n",
        "\n",
        "opt = tf.keras.optimizers.Adam(lr=0.001, decay=1e-6)\n",
        "\n",
        "# Compile model\n",
        "model.compile(\n",
        "    loss='sparse_categorical_crossentropy',\n",
        "    optimizer=opt,\n",
        "    metrics=['accuracy'],\n",
        ")\n",
        "\n",
        "model.fit(x_train,\n",
        "          y_train,\n",
        "          epochs=3,\n",
        "          validation_data=(x_test, y_test))"
      ],
      "metadata": {
        "colab": {
          "base_uri": "https://localhost:8080/"
        },
        "id": "rJ0TVkWVHeIZ",
        "outputId": "e50c421a-a5d8-4e8f-f24a-b0620b317d0b"
      },
      "execution_count": null,
      "outputs": [
        {
          "output_type": "stream",
          "name": "stdout",
          "text": [
            "(60000, 28, 28)\n",
            "(28, 28)\n",
            "Epoch 1/3\n",
            "1875/1875 [==============================] - 56s 29ms/step - loss: 0.4876 - accuracy: 0.8375 - val_loss: 0.1421 - val_accuracy: 0.9554\n",
            "Epoch 2/3\n",
            "1875/1875 [==============================] - 55s 29ms/step - loss: 0.1307 - accuracy: 0.9597 - val_loss: 0.0896 - val_accuracy: 0.9725\n",
            "Epoch 3/3\n",
            "1875/1875 [==============================] - 55s 29ms/step - loss: 0.0909 - accuracy: 0.9726 - val_loss: 0.0720 - val_accuracy: 0.9763\n"
          ]
        },
        {
          "output_type": "execute_result",
          "data": {
            "text/plain": [
              "<keras.callbacks.History at 0x7f5d10e80f10>"
            ]
          },
          "metadata": {},
          "execution_count": 2
        }
      ]
    },
    {
      "cell_type": "code",
      "source": [
        "\n",
        "print(x_train.shape)\n",
        "print(x_train[0].shape)\n",
        "\n",
        "model = Sequential()\n",
        "#LSTM has four interacting layers that communicate with each other\n",
        "model.add(GRU(64, input_shape=(x_train.shape[1:]), activation='relu', return_sequences=True))\n",
        "#model.add(Dropout(0.2))\n",
        "\n",
        "\n",
        "model.add(GRU(64, activation='relu'))\n",
        "#model.add(Dropout(0.1))\n",
        "\n",
        "model.add(Dense(32, activation='relu'))\n",
        "#model.add(Dropout(0.2))\n",
        "\n",
        "model.add(Dense(10, activation='softmax'))\n",
        "\n",
        "opt = tf.keras.optimizers.Adam(lr=0.001, decay=1e-6)\n",
        "\n",
        "# Compile model\n",
        "model.compile(\n",
        "    loss='sparse_categorical_crossentropy',\n",
        "    optimizer=opt,\n",
        "    metrics=['accuracy'],\n",
        ")\n",
        "\n",
        "model.fit(x_train,\n",
        "          y_train,\n",
        "          epochs=3,\n",
        "          validation_data=(x_test, y_test))"
      ],
      "metadata": {
        "colab": {
          "base_uri": "https://localhost:8080/"
        },
        "id": "zwFNNlNfIxpi",
        "outputId": "2fb572c8-aae3-4c86-96fb-d19d9550fda4"
      },
      "execution_count": null,
      "outputs": [
        {
          "output_type": "stream",
          "name": "stdout",
          "text": [
            "(60000, 28, 28)\n",
            "(28, 28)\n",
            "Epoch 1/3\n"
          ]
        },
        {
          "output_type": "stream",
          "name": "stderr",
          "text": [
            "/usr/local/lib/python3.8/dist-packages/keras/optimizers/optimizer_v2/adam.py:110: UserWarning: The `lr` argument is deprecated, use `learning_rate` instead.\n",
            "  super(Adam, self).__init__(name, **kwargs)\n"
          ]
        },
        {
          "output_type": "stream",
          "name": "stdout",
          "text": [
            "1875/1875 [==============================] - 47s 24ms/step - loss: 0.4234 - accuracy: 0.8562 - val_loss: 0.1275 - val_accuracy: 0.9628\n",
            "Epoch 2/3\n",
            "1875/1875 [==============================] - 44s 24ms/step - loss: 0.1048 - accuracy: 0.9680 - val_loss: 0.0695 - val_accuracy: 0.9771\n",
            "Epoch 3/3\n",
            "1875/1875 [==============================] - 46s 24ms/step - loss: 0.0733 - accuracy: 0.9776 - val_loss: 0.0487 - val_accuracy: 0.9853\n"
          ]
        },
        {
          "output_type": "execute_result",
          "data": {
            "text/plain": [
              "<keras.callbacks.History at 0x7f868682de80>"
            ]
          },
          "metadata": {},
          "execution_count": 2
        }
      ]
    },
    {
      "cell_type": "code",
      "source": [
        "\n",
        "print(x_train.shape)\n",
        "print(x_train[0].shape)\n",
        "\n",
        "model = Sequential()\n",
        "#LSTM has four interacting layers that communicate with each other\n",
        "model.add(SimpleRNN(64, input_shape=(x_train.shape[1:]), activation='relu', return_sequences=True))\n",
        "#model.add(Dropout(0.2))\n",
        "\n",
        "\n",
        "model.add(SimpleRNN(64, activation='relu'))\n",
        "#model.add(Dropout(0.1))\n",
        "\n",
        "model.add(Dense(32, activation='relu'))\n",
        "#model.add(Dropout(0.2))\n",
        "\n",
        "model.add(Dense(10, activation='softmax'))\n",
        "\n",
        "opt = tf.keras.optimizers.Adam(lr=0.001, decay=1e-6)\n",
        "\n",
        "# Compile model\n",
        "model.compile(\n",
        "    loss='sparse_categorical_crossentropy',\n",
        "    optimizer=opt,\n",
        "    metrics=['accuracy'],\n",
        ")\n",
        "\n",
        "model.fit(x_train,\n",
        "          y_train,\n",
        "          epochs=3,\n",
        "          validation_data=(x_test, y_test))"
      ],
      "metadata": {
        "id": "869DJ4oiH7ss",
        "colab": {
          "base_uri": "https://localhost:8080/"
        },
        "outputId": "88a3e27c-66bb-42da-8691-0cd95a5bca08"
      },
      "execution_count": null,
      "outputs": [
        {
          "output_type": "stream",
          "name": "stdout",
          "text": [
            "(60000, 28, 28)\n",
            "(28, 28)\n",
            "Epoch 1/3\n",
            "1875/1875 [==============================] - 28s 14ms/step - loss: 0.4927 - accuracy: 0.8399 - val_loss: 0.2313 - val_accuracy: 0.9290\n",
            "Epoch 2/3\n",
            "1875/1875 [==============================] - 24s 13ms/step - loss: 0.2028 - accuracy: 0.9407 - val_loss: 0.1392 - val_accuracy: 0.9605\n",
            "Epoch 3/3\n",
            "1875/1875 [==============================] - 24s 13ms/step - loss: 0.1616 - accuracy: 0.9532 - val_loss: 0.1518 - val_accuracy: 0.9567\n"
          ]
        },
        {
          "output_type": "execute_result",
          "data": {
            "text/plain": [
              "<keras.callbacks.History at 0x7f86873ce490>"
            ]
          },
          "metadata": {},
          "execution_count": 4
        }
      ]
    },
    {
      "cell_type": "code",
      "source": [],
      "metadata": {
        "id": "lsk0t3z15Pxb"
      },
      "execution_count": null,
      "outputs": []
    }
  ]
}